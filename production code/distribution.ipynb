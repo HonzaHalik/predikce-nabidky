{
 "cells": [
  {
   "cell_type": "code",
   "execution_count": 2,
   "metadata": {},
   "outputs": [
    {
     "name": "stdout",
     "output_type": "stream",
     "text": [
      "YOUR_CLIENT_ID\n"
     ]
    },
    {
     "ename": "",
     "evalue": "",
     "output_type": "error",
     "traceback": [
      "\u001b[1;31mThe Kernel crashed while executing code in the the current cell or a previous cell. Please review the code in the cell(s) to identify a possible cause of the failure. Click <a href='https://aka.ms/vscodeJupyterKernelCrash'>here</a> for more info. View Jupyter <a href='command:jupyter.viewOutput'>log</a> for further details."
     ]
    }
   ],
   "source": [
    "\n",
    "from email.message import EmailMessage\n",
    "import ssl\n",
    "import smtplib\n",
    "import os\n",
    "import json\n",
    "#TODO naimportovat model nebo vysledky \n",
    "\n",
    "#@params\n",
    "odeslat = True\n",
    "\n",
    "\n",
    "#* Load credentials from config.json\n",
    "with open('config.json') as config_file:\n",
    "    config_data = json.load(config_file)\n",
    "print(client_id)\n",
    "quit()\n",
    "\n",
    "email_user = config_data['email_user']\n",
    "email_password = config_data['email_password']\n",
    "email_reciever = \n",
    "subject = \n",
    "#TODO dopsat text mailu\n",
    "email_body = \"\"\"\n",
    "\n",
    "\"\"\"\n",
    "\n",
    "email_text =   \"test\"\n",
    "def send_mail(email_text):\n",
    "    if odeslat:\n",
    "        try:\n",
    "            server = smtplib.SMTP_SSL('smtp.gmail.com', 465)\n",
    "            server.ehlo()\n",
    "            server.login(email_user, email_password)\n",
    "            server.sendmail(email_user, email_reciever, email_text)\n",
    "            server.close()\n",
    "            print('Email odeslán! SIIIUUUU')\n",
    "        except Exception as exception:\n",
    "            print(\"Error: %s!\\n\\n\" % exception)\n",
    "def main():\n",
    "    send_mail(email_text)\n",
    "main()"
   ]
  }
 ],
 "metadata": {
  "kernelspec": {
   "display_name": "Python 3",
   "language": "python",
   "name": "python3"
  },
  "language_info": {
   "codemirror_mode": {
    "name": "ipython",
    "version": 3
   },
   "file_extension": ".py",
   "mimetype": "text/x-python",
   "name": "python",
   "nbconvert_exporter": "python",
   "pygments_lexer": "ipython3",
   "version": "3.10.11"
  },
  "orig_nbformat": 4
 },
 "nbformat": 4,
 "nbformat_minor": 2
}
