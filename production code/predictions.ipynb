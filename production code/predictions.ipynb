{
 "cells": [
  {
   "cell_type": "code",
   "execution_count": null,
   "metadata": {},
   "outputs": [],
   "source": []
  },
  {
   "cell_type": "code",
   "execution_count": null,
   "metadata": {},
   "outputs": [],
   "source": []
  },
  {
   "cell_type": "code",
   "execution_count": 8,
   "metadata": {},
   "outputs": [],
   "source": [
    "import pandas as pd\n",
    "import numpy as np\n",
    "import statsmodels.api as sm\n",
    "from matplotlib import pyplot as plt\n",
    "from statsmodels.tsa.arima.model import ARIMA\n",
    "from tqdm import tqdm\n",
    "import warnings\n",
    "\n",
    "from sklearn.metrics import mean_absolute_error, mean_squared_error\n",
    "from sklearn import metrics"
   ]
  },
  {
   "attachments": {},
   "cell_type": "markdown",
   "metadata": {},
   "source": [
    "nastavení"
   ]
  },
  {
   "cell_type": "code",
   "execution_count": 9,
   "metadata": {},
   "outputs": [],
   "source": [
    "graf_priprava_dat = False\n",
    "\n",
    "df_path = fr\"C:\\Users\\halik\\OneDrive\\Dokumenty\\GitHub\\predikce-nabidky\\production code\\production dataset.xlsx\"#@ cesta k datasetu\n",
    "\n",
    "#@ promenne pouzite v modelu ktere potrebuji detrendovat, deseasonalizovat...\n",
    "parametry = ['aktivni-1', 'nove-1', 'zbytek-1'] \n",
    "#@ externi regresory arima modelu\n",
    "external_regressor_list = [\"nove-1\", \"zbytek-1\"]\n",
    "\n",
    "#@ hyperparametry ARIMY \n",
    "p = 2  # AR myslim si ze by to melo byt 2 aby nebyl overfitting protoze pacf hodne spadne po lag=2\n",
    "d = 1  # I \n",
    "q = 2  # MA\n"
   ]
  },
  {
   "attachments": {},
   "cell_type": "markdown",
   "metadata": {},
   "source": [
    "import dat"
   ]
  },
  {
   "cell_type": "code",
   "execution_count": 10,
   "metadata": {},
   "outputs": [],
   "source": [
    "\n",
    "#@ args:\n",
    "    # remove_first: odstrani prvních remove first řádků z datasetu (protože nejsou kompletni...)\n",
    "    # remove_last: odstrani posledni remove_last řádků proto z data setu \n",
    "        # default = 6 (momentalne je poslednich 1 radku na predikce)\n",
    "def get_df(remove_first = 0, remove_last = 1):\n",
    "    df = pd.read_excel(df_path)\n",
    "    df = df.drop(df.index[:remove_first])\n",
    "    if remove_last != 0:\n",
    "        df = df.drop(df.index[-remove_last:])\n",
    "    df['datetime'] = pd.date_range(start='2016-03-01', periods=len(df.index.values), freq='MS')\n",
    "    return df"
   ]
  },
  {
   "attachments": {},
   "cell_type": "markdown",
   "metadata": {},
   "source": [
    "detrendování dat"
   ]
  },
  {
   "cell_type": "code",
   "execution_count": 11,
   "metadata": {},
   "outputs": [],
   "source": [
    "\n",
    "df = get_df(12)\n",
    "df_detrend = df\n",
    "columns = ['aktivni', *parametry]\n",
    "for column in columns:\n",
    "    df_detrend[column] = pd.Series((df[column]))"
   ]
  },
  {
   "attachments": {},
   "cell_type": "markdown",
   "metadata": {},
   "source": [
    "deseasonalizace dat"
   ]
  },
  {
   "cell_type": "code",
   "execution_count": 12,
   "metadata": {},
   "outputs": [],
   "source": [
    "df_deseasoned = df_detrend.copy()\n",
    "for parametr in parametry:\n",
    "    decomp = sm.tsa.seasonal_decompose(df_detrend[parametr], period=12, model='additive')\n",
    "    df_deseasoned[parametr] = df_detrend[parametr] - decomp.seasonal.values"
   ]
  },
  {
   "attachments": {},
   "cell_type": "markdown",
   "metadata": {},
   "source": [
    "arima modely"
   ]
  },
  {
   "cell_type": "code",
   "execution_count": 13,
   "metadata": {},
   "outputs": [
    {
     "name": "stdout",
     "output_type": "stream",
     "text": [
      "     datum  Unnamed: 1  repo-1  repo-2  repo-3  repo-4  repo-5  repo-6  \\\n",
      "12  201602           5       5       5       5       5       5       5   \n",
      "13  201603           5       5       5       5       5       5       5   \n",
      "14  201604           5       5       5       5       5       5       5   \n",
      "15  201605           5       5       5       5       5       5       5   \n",
      "16  201606           5       5       5       5       5       5       5   \n",
      "..     ...         ...     ...     ...     ...     ...     ...     ...   \n",
      "93  202211         700     700     700     700     700     700     575   \n",
      "94  202212         700     700     700     700     700     700     575   \n",
      "95  202301         700     700     700     700     700     700     575   \n",
      "96  202302         700     700     700     700     700     700     575   \n",
      "97  202303         700     700     700     700     700     700     575   \n",
      "\n",
      "    repo-7  repo-8  ...  doba-5  doba-6  doba-7  doba-8  doba-9  doba-10  \\\n",
      "12       5       5  ...    70.0    64.0    67.0    70.0    42.0     76.0   \n",
      "13       5       5  ...    69.0    70.0    64.0    67.0    70.0     42.0   \n",
      "14       5       5  ...    66.0    69.0    70.0    64.0    67.0     70.0   \n",
      "15       5       5  ...    77.0    66.0    69.0    70.0    64.0     67.0   \n",
      "16       5       5  ...    74.0    77.0    66.0    69.0    70.0     64.0   \n",
      "..     ...     ...  ...     ...     ...     ...     ...     ...      ...   \n",
      "93     500     450  ...    66.0    60.0    62.0    62.0    67.0     76.0   \n",
      "94     500     450  ...    68.0    66.0    60.0    62.0    62.0     67.0   \n",
      "95     500     450  ...    67.0    68.0    66.0    60.0    62.0     62.0   \n",
      "96     500     450  ...    71.0    67.0    68.0    66.0    60.0     62.0   \n",
      "97     500     450  ...    80.0    71.0    67.0    68.0    66.0     60.0   \n",
      "\n",
      "    doba-11  doba-12  index   datetime  \n",
      "12     77.0     82.0     12 2016-03-01  \n",
      "13     76.0     77.0     13 2016-04-01  \n",
      "14     42.0     76.0     14 2016-05-01  \n",
      "15     70.0     42.0     15 2016-06-01  \n",
      "16     67.0     70.0     16 2016-07-01  \n",
      "..      ...      ...    ...        ...  \n",
      "93     66.0     61.0     93 2022-12-01  \n",
      "94     76.0     66.0     94 2023-01-01  \n",
      "95     67.0     76.0     95 2023-02-01  \n",
      "96     62.0     67.0     96 2023-03-01  \n",
      "97     62.0     62.0     97 2023-04-01  \n",
      "\n",
      "[86 rows x 95 columns]\n",
      "\n"
     ]
    }
   ],
   "source": [
    "df_train = df_deseasoned[:]\n",
    "print(df_deseasoned)\n",
    "model = ARIMA(df_train[['aktivni']], order=(p, d, q), exog=df_train[[*external_regressor_list]])\n",
    "print()\n",
    "model = model.fit()"
   ]
  },
  {
   "cell_type": "code",
   "execution_count": 14,
   "metadata": {},
   "outputs": [
    {
     "name": "stdout",
     "output_type": "stream",
     "text": [
      "predikce na dalsi mesic (202304) je 8025 bytu v nabidce\n"
     ]
    },
    {
     "name": "stderr",
     "output_type": "stream",
     "text": [
      "C:\\Users\\halik\\AppData\\Local\\Temp\\ipykernel_23416\\3271070792.py:4: FutureWarning: Calling int on a single element Series is deprecated and will raise a TypeError in the future. Use int(ser.iloc[0]) instead\n",
      "  print(f\"predikce na dalsi mesic ({int(df_new['datum'])}) je {int(df_pred)} bytu v nabidce\")\n"
     ]
    }
   ],
   "source": [
    "df_new = get_df(remove_last = 0) # 0 protze nechci odebrat radky co predpovidam\n",
    "df_new = df_new.drop(df_new.index[0:-1])\n",
    "df_pred = model.forecast(exog=df_new[[*external_regressor_list]])\n",
    "print(f\"predikce na dalsi mesic ({int(df_new['datum'])}) je {int(df_pred)} bytu v nabidce\")"
   ]
  },
  {
   "attachments": {},
   "cell_type": "markdown",
   "metadata": {},
   "source": [
    "    rolling window forecast"
   ]
  },
  {
   "cell_type": "code",
   "execution_count": 17,
   "metadata": {},
   "outputs": [],
   "source": [
    "# Lists to store predictions and actual values for the current window size\n",
    "predictions = []\n",
    "actual_values = []\n",
    "#! smazat na debuging\n",
    "warnings.filterwarnings(\"ignore\")\n",
    "#@ parametres\n",
    "rw_size = 56\n",
    "#parametry = ['nove-1', 'aktivni']\n",
    "df_train = df_deseasoned\n",
    "external_regressor_list = ['nove-1']\n",
    "# predikce pomoci rw forecastu\n",
    "\n",
    "# Select training data\n",
    "df_train = df_train[rw_size:]\n",
    "\n",
    "# Fit ARIMA model\n",
    "model = ARIMA(df_train[['aktivni']], order=(p, d, q), exog=df_train[[*external_regressor_list]])\n",
    "model = model.fit()\n",
    "\n"
   ]
  },
  {
   "cell_type": "code",
   "execution_count": 20,
   "metadata": {},
   "outputs": [],
   "source": [
    "# Rolling window sizes\n",
    "rw_sizes = range(1,len(df_train),5)\n",
    "\n",
    "# Initialize lists to store metrics for each rolling window size\n",
    "rw_mae_list = []\n",
    "rw_mse_list = []\n",
    "rw_rmse_list = []\n",
    "\n",
    "# Iterate over rolling window sizes\n",
    "for rw_size in rw_sizes:\n",
    "    # Lists to store predictions and actual values for the current window size\n",
    "    predictions = []\n",
    "    actual_values = []\n",
    "    \n",
    "    # Perform rolling window analysis\n",
    "    for i in range(len(df_train) - rw_size):\n",
    "        # Select training data\n",
    "        df_train = df_train[i:i + rw_size]\n",
    "\n",
    "        # Fit ARIMA model\n",
    "        model = ARIMA(df_train[['aktivni']], order=(p, d, q), exog=df_train[[*external_regressor_list]])\n",
    "        model = model.fit()\n",
    "\n",
    "        # Predict using the model\n",
    "        df_new = df_train[i + rw_size:i + rw_size + 1]\n",
    "        print(df_new)\n",
    "        print([*external_regressor_list])\n",
    "        df_pred = model.forecast(exog=df_new[[*external_regressor_list]])\n",
    "\n",
    "        # Extract actual and predicted values\n",
    "        df_actual = df_train[i + rw_size:i + rw_size + 1]\n",
    "        df_actual = df_actual[['aktivni']]\n",
    "        actual_value = df_actual.values.flatten()[0]\n",
    "        predicted_value = df_pred.item()\n",
    "\n",
    "        # Append actual and predicted values to respective lists\n",
    "        actual_values.append(actual_value)\n",
    "        predictions.append(predicted_value)\n",
    "\n",
    "    print(f\"Iteration {rw_sizes.index(rw_size) + 1} of {len(rw_sizes)} done\", end='\\r') \n",
    "    # Calculate metrics for the current window size\n",
    "    mae = mean_absolute_error(actual_values, predictions)\n",
    "    mse = mean_squared_error(actual_values, predictions)\n",
    "    rmse = np.sqrt(mse)\n",
    "\n",
    "    # Append metrics to respective lists\n",
    "    rw_mae_list.append(mae)\n",
    "    rw_mse_list.append(mse)\n",
    "    rw_rmse_list.append(rmse)\n",
    "\n",
    "# Print the metrics for each rolling window size\n",
    "for i, rw_size in enumerate(rw_sizes):\n",
    "    print(f\"Rolling Window Size: {rw_size}\")\n",
    "    print(f\"MAE: {rw_mae_list[i]}\")\n",
    "    print(f\"MSE: {rw_mse_list[i]}\")\n",
    "    print(f\"RMSE: {rw_rmse_list[i]}\")\n"
   ]
  },
  {
   "cell_type": "code",
   "execution_count": 23,
   "metadata": {},
   "outputs": [
    {
     "name": "stdout",
     "output_type": "stream",
     "text": [
      "    nove-1\n",
      "98  1788.0\n",
      "predikce na dalsi mesic (202304) je 6974 bytu v nabidce\n"
     ]
    }
   ],
   "source": [
    "# Predict using the model\n",
    "df_new = get_df(remove_last = 0) # 0 protze nechci odebrat radky co predpovidam\n",
    "df_new = df_new.drop(df_new.index[0:-1])\n",
    "df_pred = model.forecast(exog=df_new[[*external_regressor_list]])\n",
    "print(df_new[[*external_regressor_list]])\n",
    "print(f\"predikce na dalsi mesic ({int(df_new['datum'])}) je {int(df_pred)} bytu v nabidce\")\n"
   ]
  },
  {
   "attachments": {},
   "cell_type": "markdown",
   "metadata": {},
   "source": [
    "distribuce"
   ]
  },
  {
   "cell_type": "code",
   "execution_count": 22,
   "metadata": {},
   "outputs": [
    {
     "name": "stdout",
     "output_type": "stream",
     "text": [
      "\n",
      "predikce na dalsi mesic (04,2023) je 6974 bytu v nabidce\n",
      "\n"
     ]
    }
   ],
   "source": [
    "from email.message import EmailMessage\n",
    "import ssl\n",
    "import smtplib\n",
    "import os\n",
    "import json\n",
    "#@params\n",
    "\n",
    "#* Load credentials from config.json\n",
    "with open('config.json') as config_file:\n",
    "    config_data = json.load(config_file)\n",
    "\n",
    "email_user = config_data['email_user']\n",
    "email_password = config_data['email_password']\n",
    "email_recievers = config_data['email_recievers']\n",
    "\n",
    "subject = \"predikce nabidky\"\n",
    "email_body = f\"\"\"\n",
    "predikce na dalsi mesic ({str(int(df_new['datum']))[4:]},{str(int(df_new['datum']))[:4]}) je {str(int(df_pred))} bytu v nabidce\n",
    "\"\"\"\n",
    "\n",
    "def send_mail(email_body):\n",
    "    odeslat = False\n",
    "    if odeslat:\n",
    "        try:\n",
    "            server = smtplib.SMTP_SSL('smtp.gmail.com', 465)\n",
    "            server.ehlo()\n",
    "            server.login(email_user, email_password)\n",
    "            server.sendmail(email_user, email_recievers, email_text)\n",
    "            server.close()\n",
    "            print('Email odeslán! SIIIUUUU')\n",
    "        except Exception as exception:\n",
    "            print(\"Error: %s!\\n\\n\" % exception)\n",
    "    else:\n",
    "        print(email_body)\n",
    "send_mail(email_body)"
   ]
  }
 ],
 "metadata": {
  "kernelspec": {
   "display_name": "Python 3",
   "language": "python",
   "name": "python3"
  },
  "language_info": {
   "codemirror_mode": {
    "name": "ipython",
    "version": 3
   },
   "file_extension": ".py",
   "mimetype": "text/x-python",
   "name": "python",
   "nbconvert_exporter": "python",
   "pygments_lexer": "ipython3",
   "version": "3.10.11"
  },
  "orig_nbformat": 4
 },
 "nbformat": 4,
 "nbformat_minor": 2
}
