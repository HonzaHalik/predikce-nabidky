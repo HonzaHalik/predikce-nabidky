{
 "cells": [
  {
   "cell_type": "code",
   "execution_count": 107,
   "metadata": {},
   "outputs": [],
   "source": [
    "import pandas as pd\n",
    "import numpy as np\n",
    "import statsmodels.api as sm\n",
    "from matplotlib import pyplot as plt\n",
    "from statsmodels.tsa.arima.model import ARIMA\n",
    "from tqdm import tqdm\n",
    "import warnings\n",
    "\n",
    "from sklearn.metrics import mean_absolute_error, mean_squared_error\n",
    "from sklearn import metrics"
   ]
  },
  {
   "attachments": {},
   "cell_type": "markdown",
   "metadata": {},
   "source": [
    "nastavení"
   ]
  },
  {
   "cell_type": "code",
   "execution_count": 108,
   "metadata": {},
   "outputs": [],
   "source": [
    "graf_priprava_dat = False\n",
    "\n",
    "df_path = fr\"C:\\Users\\halik\\OneDrive\\Dokumenty\\GitHub\\predikce-nabidky\\production code\\production dataset.xlsx\"#@ cesta k datasetu\n",
    "parametry = ['aktivni-1', 'nove-1', 'zbytek-1'] #@ parametry pouzite v modelu\n",
    "\n",
    "\n",
    "#@ hyperparametry ARIMY \n",
    "p = 2  # AR myslim si ze by to melo byt 2 aby nebyl overfitting protoze pacf hodne spadne po lag=2\n",
    "d = 1  # I \n",
    "q = 2  # MA\n"
   ]
  },
  {
   "attachments": {},
   "cell_type": "markdown",
   "metadata": {},
   "source": [
    "import dat"
   ]
  },
  {
   "cell_type": "code",
   "execution_count": 109,
   "metadata": {},
   "outputs": [],
   "source": [
    "\n",
    "#@ args:\n",
    "    # remove_first: odstrani prvních remove first řádků z datasetu (protože nejsou kompletni...)\n",
    "    # remove_last: odstrani posledni remove_last řádků proto z data setu \n",
    "        # default = 6 (momentalne je poslednich 1 radku na predikce)\n",
    "def get_df(remove_first = 0, remove_last = 1):\n",
    "    df = pd.read_excel(df_path)\n",
    "    df = df.drop(df.index[:remove_first])\n",
    "    if remove_last != 0:\n",
    "        df = df.drop(df.index[-remove_last:])\n",
    "    df['datetime'] = pd.date_range(start='2016-03-01', periods=len(df.index.values), freq='MS')\n",
    "    return df"
   ]
  },
  {
   "attachments": {},
   "cell_type": "markdown",
   "metadata": {},
   "source": [
    "detrendování dat"
   ]
  },
  {
   "cell_type": "code",
   "execution_count": 110,
   "metadata": {},
   "outputs": [],
   "source": [
    "\n",
    "df = get_df(12)\n",
    "df_detrend = df\n",
    "columns = ['aktivni', *parametry]\n",
    "for column in columns:\n",
    "    df_detrend[column] = pd.Series((df[column]))"
   ]
  },
  {
   "attachments": {},
   "cell_type": "markdown",
   "metadata": {},
   "source": [
    "deseasonalizace dat"
   ]
  },
  {
   "cell_type": "code",
   "execution_count": 111,
   "metadata": {},
   "outputs": [],
   "source": [
    "df_deseasoned = df_detrend.copy()\n",
    "for parametr in parametry:\n",
    "    decomp = sm.tsa.seasonal_decompose(df_detrend[parametr], period=12, model='additive')\n",
    "    df_deseasoned[parametr] = df_detrend[parametr] - decomp.seasonal.values"
   ]
  },
  {
   "attachments": {},
   "cell_type": "markdown",
   "metadata": {},
   "source": [
    "arima modely"
   ]
  },
  {
   "cell_type": "code",
   "execution_count": 115,
   "metadata": {},
   "outputs": [],
   "source": [
    "df_train = df_arima\n",
    "model = ARIMA(df_train[['aktivni']], order=(p, d, q), exog=df_train[[*external_regressor_list]])\n",
    "model = model.fit()"
   ]
  },
  {
   "cell_type": "code",
   "execution_count": 118,
   "metadata": {},
   "outputs": [
    {
     "name": "stdout",
     "output_type": "stream",
     "text": [
      "predikce na dalsi mesic (202304) je 7870 bytu v nabidce\n"
     ]
    }
   ],
   "source": [
    "df_new = get_df(remove_last = 0) # 0 protze nechci odebrat radky co predpovidam\n",
    "df_new = df_new.drop(df_new.index[0:-1])\n",
    "df_pred = model.forecast(exog=df_new[[*external_regressor_list]])\n",
    "print(f\"predikce na dalsi mesic ({int(df_new['datum'])}) je {int(df_pred)} bytu v nabidce\")"
   ]
  },
  {
   "attachments": {},
   "cell_type": "markdown",
   "metadata": {},
   "source": [
    "    rolling window forecast"
   ]
  },
  {
   "cell_type": "code",
   "execution_count": 119,
   "metadata": {},
   "outputs": [],
   "source": [
    "# Lists to store predictions and actual values for the current window size\n",
    "predictions = []\n",
    "actual_values = []\n",
    "#! smazat na debuging\n",
    "warnings.filterwarnings(\"ignore\")\n",
    "#@ parametres\n",
    "rw_size = 56\n",
    "parametry = ['nove-1', 'aktivni']\n",
    "df_arima = df_deseasoned[parametry]\n",
    "external_regressor_list = ['nove-1']\n",
    "# predikce pomoci rw forecastu\n",
    "\n",
    "# Select training data\n",
    "df_train = df_arima[rw_size:]\n",
    "\n",
    "# Fit ARIMA model\n",
    "model = ARIMA(df_train[['aktivni']], order=(p, d, q), exog=df_train[[*external_regressor_list]])\n",
    "model = model.fit()\n",
    "\n",
    "\n"
   ]
  },
  {
   "cell_type": "code",
   "execution_count": 120,
   "metadata": {},
   "outputs": [
    {
     "name": "stdout",
     "output_type": "stream",
     "text": [
      "predikce na dalsi mesic (202304) je 8026 bytu v nabidce\n"
     ]
    }
   ],
   "source": [
    "# Predict using the model\n",
    "df_new = get_df(remove_last = 0) # 0 protze nechci odebrat radky co predpovidam\n",
    "df_new = df_new.drop(df_new.index[0:-1])\n",
    "df_pred = model.forecast(exog=df_new[[*external_regressor_list]])\n",
    "print(f\"predikce na dalsi mesic ({int(df_new['datum'])}) je {int(df_pred)} bytu v nabidce\")\n"
   ]
  }
 ],
 "metadata": {
  "kernelspec": {
   "display_name": "Python 3",
   "language": "python",
   "name": "python3"
  },
  "language_info": {
   "codemirror_mode": {
    "name": "ipython",
    "version": 3
   },
   "file_extension": ".py",
   "mimetype": "text/x-python",
   "name": "python",
   "nbconvert_exporter": "python",
   "pygments_lexer": "ipython3",
   "version": "3.10.11"
  },
  "orig_nbformat": 4
 },
 "nbformat": 4,
 "nbformat_minor": 2
}
