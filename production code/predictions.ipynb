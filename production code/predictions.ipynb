{
 "cells": [
  {
   "cell_type": "code",
   "execution_count": null,
   "metadata": {},
   "outputs": [],
   "source": []
  },
  {
   "cell_type": "code",
   "execution_count": null,
   "metadata": {},
   "outputs": [],
   "source": []
  },
  {
   "cell_type": "code",
   "execution_count": 33,
   "metadata": {},
   "outputs": [],
   "source": [
    "import pandas as pd\n",
    "import numpy as np\n",
    "import statsmodels.api as sm\n",
    "from matplotlib import pyplot as plt\n",
    "from statsmodels.tsa.arima.model import ARIMA\n",
    "from tqdm import tqdm\n",
    "import warnings\n",
    "\n",
    "from sklearn.metrics import mean_absolute_error, mean_squared_error\n",
    "from sklearn import metrics"
   ]
  },
  {
   "attachments": {},
   "cell_type": "markdown",
   "metadata": {},
   "source": [
    "nastavení"
   ]
  },
  {
   "cell_type": "code",
   "execution_count": 34,
   "metadata": {},
   "outputs": [],
   "source": [
    "graf_priprava_dat = False\n",
    "\n",
    "df_path = fr\"C:\\Users\\halik\\OneDrive\\Dokumenty\\GitHub\\predikce-nabidky\\production code\\production dataset.xlsx\"#@ cesta k datasetu\n",
    "\n",
    "#@ promenne pouzite v modelu ktere potrebuji detrendovat, deseasonalizovat...\n",
    "parametry = ['aktivni-1', 'nove-1', 'zbytek-1'] \n",
    "#@ externi regresory arima modelu\n",
    "external_regressor_columns = [\"nove-1\", \"zbytek-1\"]\n",
    "\n",
    "#@ hyperparametry ARIMY \n",
    "p = 2  # AR myslim si ze by to melo byt 2 aby nebyl overfitting protoze pacf hodne spadne po lag=2\n",
    "d = 1  # I \n",
    "q = 2  # MA\n"
   ]
  },
  {
   "attachments": {},
   "cell_type": "markdown",
   "metadata": {},
   "source": [
    "import dat"
   ]
  },
  {
   "cell_type": "code",
   "execution_count": 35,
   "metadata": {},
   "outputs": [],
   "source": [
    "\n",
    "#@ args:\n",
    "    # remove_first: odstrani prvních remove first řádků z datasetu (protože nejsou kompletni...)\n",
    "    # remove_last: odstrani posledni remove_last řádků proto z data setu \n",
    "        # default = 6 (momentalne je poslednich 1 radku na predikce)\n",
    "def get_df(remove_first = 0, remove_last = 1):\n",
    "    df = pd.read_excel(df_path)\n",
    "    df = df.drop(df.index[:remove_first])\n",
    "    if remove_last != 0:\n",
    "        df = df.drop(df.index[-remove_last:])\n",
    "    df['datetime'] = pd.date_range(start='2016-03-01', periods=len(df.index.values), freq='MS')\n",
    "    return df"
   ]
  },
  {
   "attachments": {},
   "cell_type": "markdown",
   "metadata": {},
   "source": [
    "detrendování dat"
   ]
  },
  {
   "cell_type": "code",
   "execution_count": 36,
   "metadata": {},
   "outputs": [],
   "source": [
    "\n",
    "df = get_df(12)\n",
    "df_detrend = df\n",
    "columns = ['aktivni', *parametry]\n",
    "for column in columns:\n",
    "    df_detrend[column] = pd.Series((df[column]))"
   ]
  },
  {
   "attachments": {},
   "cell_type": "markdown",
   "metadata": {},
   "source": [
    "deseasonalizace dat"
   ]
  },
  {
   "cell_type": "code",
   "execution_count": 37,
   "metadata": {},
   "outputs": [],
   "source": [
    "df_deseasoned = df_detrend.copy()\n",
    "for parametr in parametry:\n",
    "    decomp = sm.tsa.seasonal_decompose(df_detrend[parametr], period=12, model='additive')\n",
    "    df_deseasoned[parametr] = df_detrend[parametr] - decomp.seasonal.values"
   ]
  },
  {
   "attachments": {},
   "cell_type": "markdown",
   "metadata": {},
   "source": [
    "arima modely"
   ]
  },
  {
   "cell_type": "code",
   "execution_count": 43,
   "metadata": {},
   "outputs": [
    {
     "name": "stdout",
     "output_type": "stream",
     "text": [
      "     datum  Unnamed: 1  repo-1  repo-2  repo-3  repo-4  repo-5  repo-6  \\\n",
      "12  201602           5       5       5       5       5       5       5   \n",
      "13  201603           5       5       5       5       5       5       5   \n",
      "14  201604           5       5       5       5       5       5       5   \n",
      "15  201605           5       5       5       5       5       5       5   \n",
      "16  201606           5       5       5       5       5       5       5   \n",
      "..     ...         ...     ...     ...     ...     ...     ...     ...   \n",
      "93  202211         700     700     700     700     700     700     575   \n",
      "94  202212         700     700     700     700     700     700     575   \n",
      "95  202301         700     700     700     700     700     700     575   \n",
      "96  202302         700     700     700     700     700     700     575   \n",
      "97  202303         700     700     700     700     700     700     575   \n",
      "\n",
      "    repo-7  repo-8  ...  doba-5  doba-6  doba-7  doba-8  doba-9  doba-10  \\\n",
      "12       5       5  ...    70.0    64.0    67.0    70.0    42.0     76.0   \n",
      "13       5       5  ...    69.0    70.0    64.0    67.0    70.0     42.0   \n",
      "14       5       5  ...    66.0    69.0    70.0    64.0    67.0     70.0   \n",
      "15       5       5  ...    77.0    66.0    69.0    70.0    64.0     67.0   \n",
      "16       5       5  ...    74.0    77.0    66.0    69.0    70.0     64.0   \n",
      "..     ...     ...  ...     ...     ...     ...     ...     ...      ...   \n",
      "93     500     450  ...    66.0    60.0    62.0    62.0    67.0     76.0   \n",
      "94     500     450  ...    68.0    66.0    60.0    62.0    62.0     67.0   \n",
      "95     500     450  ...    67.0    68.0    66.0    60.0    62.0     62.0   \n",
      "96     500     450  ...    71.0    67.0    68.0    66.0    60.0     62.0   \n",
      "97     500     450  ...    80.0    71.0    67.0    68.0    66.0     60.0   \n",
      "\n",
      "    doba-11  doba-12  index   datetime  \n",
      "12     77.0     82.0     12 2016-03-01  \n",
      "13     76.0     77.0     13 2016-04-01  \n",
      "14     42.0     76.0     14 2016-05-01  \n",
      "15     70.0     42.0     15 2016-06-01  \n",
      "16     67.0     70.0     16 2016-07-01  \n",
      "..      ...      ...    ...        ...  \n",
      "93     66.0     61.0     93 2022-12-01  \n",
      "94     76.0     66.0     94 2023-01-01  \n",
      "95     67.0     76.0     95 2023-02-01  \n",
      "96     62.0     67.0     96 2023-03-01  \n",
      "97     62.0     62.0     97 2023-04-01  \n",
      "\n",
      "[86 rows x 95 columns]\n",
      "\n"
     ]
    }
   ],
   "source": [
    "df_train = df_deseasoned[:]\n",
    "print(df_deseasoned)\n",
    "model = ARIMA(df_train[['aktivni']], order=(p, d, q), exog=df_train[[*external_regressor_list]])\n",
    "print()\n",
    "model = model.fit()"
   ]
  },
  {
   "cell_type": "code",
   "execution_count": 39,
   "metadata": {},
   "outputs": [
    {
     "name": "stdout",
     "output_type": "stream",
     "text": [
      "predikce na dalsi mesic (202304) je 7931 bytu v nabidce\n"
     ]
    }
   ],
   "source": [
    "df_new = get_df(remove_last = 0) # 0 protze nechci odebrat radky co predpovidam\n",
    "df_new = df_new.drop(df_new.index[0:-1])\n",
    "df_pred = model.forecast(exog=df_new[[*external_regressor_list]])\n",
    "print(f\"predikce na dalsi mesic ({int(df_new['datum'])}) je {int(df_pred)} bytu v nabidce\")"
   ]
  },
  {
   "attachments": {},
   "cell_type": "markdown",
   "metadata": {},
   "source": [
    "    rolling window forecast"
   ]
  },
  {
   "cell_type": "code",
   "execution_count": 40,
   "metadata": {},
   "outputs": [],
   "source": [
    "# Lists to store predictions and actual values for the current window size\n",
    "predictions = []\n",
    "actual_values = []\n",
    "#! smazat na debuging\n",
    "warnings.filterwarnings(\"ignore\")\n",
    "#@ parametres\n",
    "rw_size = 56\n",
    "parametry = ['nove-1', 'aktivni']\n",
    "df_train = df_deseasoned[parametry]\n",
    "external_regressor_list = ['nove-1']\n",
    "# predikce pomoci rw forecastu\n",
    "\n",
    "# Select training data\n",
    "df_train = df_train[rw_size:]\n",
    "\n",
    "# Fit ARIMA model\n",
    "model = ARIMA(df_train[['aktivni']], order=(p, d, q), exog=df_train[[*external_regressor_list]])\n",
    "model = model.fit()\n",
    "\n"
   ]
  },
  {
   "cell_type": "code",
   "execution_count": 41,
   "metadata": {},
   "outputs": [
    {
     "name": "stdout",
     "output_type": "stream",
     "text": [
      "['nove-1']\n"
     ]
    },
    {
     "ename": "ValueError",
     "evalue": "Provided exogenous values are not of the appropriate shape. Required (1, 1), got (0, 1).",
     "output_type": "error",
     "traceback": [
      "\u001b[1;31m---------------------------------------------------------------------------\u001b[0m",
      "\u001b[1;31mValueError\u001b[0m                                Traceback (most recent call last)",
      "File \u001b[1;32m~\\AppData\\Local\\Packages\\PythonSoftwareFoundation.Python.3.10_qbz5n2kfra8p0\\LocalCache\\local-packages\\Python310\\site-packages\\statsmodels\\tsa\\statespace\\mlemodel.py:1776\u001b[0m, in \u001b[0;36mMLEModel._validate_out_of_sample_exog\u001b[1;34m(self, exog, out_of_sample)\u001b[0m\n\u001b[0;32m   1775\u001b[0m \u001b[39mtry\u001b[39;00m:\n\u001b[1;32m-> 1776\u001b[0m     exog \u001b[39m=\u001b[39m exog\u001b[39m.\u001b[39;49mreshape(required_exog_shape)\n\u001b[0;32m   1777\u001b[0m \u001b[39mexcept\u001b[39;00m \u001b[39mValueError\u001b[39;00m:\n",
      "\u001b[1;31mValueError\u001b[0m: cannot reshape array of size 0 into shape (1,1)",
      "\nDuring handling of the above exception, another exception occurred:\n",
      "\u001b[1;31mValueError\u001b[0m                                Traceback (most recent call last)",
      "Cell \u001b[1;32mIn[41], line 27\u001b[0m\n\u001b[0;32m     25\u001b[0m df_new \u001b[39m=\u001b[39m df_train[i \u001b[39m+\u001b[39m rw_size:i \u001b[39m+\u001b[39m rw_size \u001b[39m+\u001b[39m \u001b[39m1\u001b[39m]\n\u001b[0;32m     26\u001b[0m \u001b[39mprint\u001b[39m([\u001b[39m*\u001b[39mexternal_regressor_list])\n\u001b[1;32m---> 27\u001b[0m df_pred \u001b[39m=\u001b[39m model\u001b[39m.\u001b[39;49mforecast(exog\u001b[39m=\u001b[39;49mdf_new[[\u001b[39m*\u001b[39;49mexternal_regressor_list]])\n\u001b[0;32m     29\u001b[0m \u001b[39m# Extract actual and predicted values\u001b[39;00m\n\u001b[0;32m     30\u001b[0m df_actual \u001b[39m=\u001b[39m df_train[i \u001b[39m+\u001b[39m rw_size:i \u001b[39m+\u001b[39m rw_size \u001b[39m+\u001b[39m \u001b[39m1\u001b[39m]\n",
      "File \u001b[1;32m~\\AppData\\Local\\Packages\\PythonSoftwareFoundation.Python.3.10_qbz5n2kfra8p0\\LocalCache\\local-packages\\Python310\\site-packages\\statsmodels\\base\\wrapper.py:113\u001b[0m, in \u001b[0;36mmake_wrapper.<locals>.wrapper\u001b[1;34m(self, *args, **kwargs)\u001b[0m\n\u001b[0;32m    111\u001b[0m     obj \u001b[39m=\u001b[39m data\u001b[39m.\u001b[39mwrap_output(func(results, \u001b[39m*\u001b[39margs, \u001b[39m*\u001b[39m\u001b[39m*\u001b[39mkwargs), how[\u001b[39m0\u001b[39m], how[\u001b[39m1\u001b[39m:])\n\u001b[0;32m    112\u001b[0m \u001b[39melif\u001b[39;00m how:\n\u001b[1;32m--> 113\u001b[0m     obj \u001b[39m=\u001b[39m data\u001b[39m.\u001b[39mwrap_output(func(results, \u001b[39m*\u001b[39margs, \u001b[39m*\u001b[39m\u001b[39m*\u001b[39mkwargs), how)\n\u001b[0;32m    114\u001b[0m \u001b[39mreturn\u001b[39;00m obj\n",
      "File \u001b[1;32m~\\AppData\\Local\\Packages\\PythonSoftwareFoundation.Python.3.10_qbz5n2kfra8p0\\LocalCache\\local-packages\\Python310\\site-packages\\statsmodels\\tsa\\statespace\\mlemodel.py:3537\u001b[0m, in \u001b[0;36mMLEResults.forecast\u001b[1;34m(self, steps, signal_only, **kwargs)\u001b[0m\n\u001b[0;32m   3535\u001b[0m \u001b[39melse\u001b[39;00m:\n\u001b[0;32m   3536\u001b[0m     end \u001b[39m=\u001b[39m steps\n\u001b[1;32m-> 3537\u001b[0m \u001b[39mreturn\u001b[39;00m \u001b[39mself\u001b[39m\u001b[39m.\u001b[39mpredict(start\u001b[39m=\u001b[39m\u001b[39mself\u001b[39m\u001b[39m.\u001b[39mnobs, end\u001b[39m=\u001b[39mend, signal_only\u001b[39m=\u001b[39msignal_only,\n\u001b[0;32m   3538\u001b[0m                     \u001b[39m*\u001b[39m\u001b[39m*\u001b[39mkwargs)\n",
      "File \u001b[1;32m~\\AppData\\Local\\Packages\\PythonSoftwareFoundation.Python.3.10_qbz5n2kfra8p0\\LocalCache\\local-packages\\Python310\\site-packages\\statsmodels\\tsa\\statespace\\mlemodel.py:3487\u001b[0m, in \u001b[0;36mMLEResults.predict\u001b[1;34m(self, start, end, dynamic, information_set, signal_only, **kwargs)\u001b[0m\n\u001b[0;32m   3422\u001b[0m \u001b[39m\u001b[39m\u001b[39mr\u001b[39m\u001b[39m\"\"\"\u001b[39;00m\n\u001b[0;32m   3423\u001b[0m \u001b[39mIn-sample prediction and out-of-sample forecasting\u001b[39;00m\n\u001b[0;32m   3424\u001b[0m \n\u001b[1;32m   (...)\u001b[0m\n\u001b[0;32m   3484\u001b[0m \u001b[39m    including confidence intervals.\u001b[39;00m\n\u001b[0;32m   3485\u001b[0m \u001b[39m\"\"\"\u001b[39;00m\n\u001b[0;32m   3486\u001b[0m \u001b[39m# Perform the prediction\u001b[39;00m\n\u001b[1;32m-> 3487\u001b[0m prediction_results \u001b[39m=\u001b[39m \u001b[39mself\u001b[39m\u001b[39m.\u001b[39mget_prediction(\n\u001b[0;32m   3488\u001b[0m     start, end, dynamic, information_set\u001b[39m=\u001b[39minformation_set,\n\u001b[0;32m   3489\u001b[0m     signal_only\u001b[39m=\u001b[39msignal_only, \u001b[39m*\u001b[39m\u001b[39m*\u001b[39mkwargs)\n\u001b[0;32m   3490\u001b[0m \u001b[39mreturn\u001b[39;00m prediction_results\u001b[39m.\u001b[39mpredicted_mean\n",
      "File \u001b[1;32m~\\AppData\\Local\\Packages\\PythonSoftwareFoundation.Python.3.10_qbz5n2kfra8p0\\LocalCache\\local-packages\\Python310\\site-packages\\statsmodels\\tsa\\statespace\\mlemodel.py:3355\u001b[0m, in \u001b[0;36mMLEResults.get_prediction\u001b[1;34m(self, start, end, dynamic, information_set, signal_only, index, exog, extend_model, extend_kwargs, **kwargs)\u001b[0m\n\u001b[0;32m   3352\u001b[0m     extend_model \u001b[39m=\u001b[39m (\u001b[39mself\u001b[39m\u001b[39m.\u001b[39mmodel\u001b[39m.\u001b[39mexog \u001b[39mis\u001b[39;00m \u001b[39mnot\u001b[39;00m \u001b[39mNone\u001b[39;00m \u001b[39mor\u001b[39;00m\n\u001b[0;32m   3353\u001b[0m                     \u001b[39mnot\u001b[39;00m \u001b[39mself\u001b[39m\u001b[39m.\u001b[39mfilter_results\u001b[39m.\u001b[39mtime_invariant)\n\u001b[0;32m   3354\u001b[0m \u001b[39mif\u001b[39;00m out_of_sample \u001b[39mand\u001b[39;00m extend_model:\n\u001b[1;32m-> 3355\u001b[0m     kwargs \u001b[39m=\u001b[39m \u001b[39mself\u001b[39m\u001b[39m.\u001b[39mmodel\u001b[39m.\u001b[39m_get_extension_time_varying_matrices(\n\u001b[0;32m   3356\u001b[0m         \u001b[39mself\u001b[39m\u001b[39m.\u001b[39mparams, exog, out_of_sample, extend_kwargs,\n\u001b[0;32m   3357\u001b[0m         transformed\u001b[39m=\u001b[39m\u001b[39mTrue\u001b[39;00m, includes_fixed\u001b[39m=\u001b[39m\u001b[39mTrue\u001b[39;00m, \u001b[39m*\u001b[39m\u001b[39m*\u001b[39mkwargs)\n\u001b[0;32m   3359\u001b[0m \u001b[39m# Make sure the model class has the current parameters\u001b[39;00m\n\u001b[0;32m   3360\u001b[0m \u001b[39mself\u001b[39m\u001b[39m.\u001b[39mmodel\u001b[39m.\u001b[39mupdate(\u001b[39mself\u001b[39m\u001b[39m.\u001b[39mparams, transformed\u001b[39m=\u001b[39m\u001b[39mTrue\u001b[39;00m, includes_fixed\u001b[39m=\u001b[39m\u001b[39mTrue\u001b[39;00m)\n",
      "File \u001b[1;32m~\\AppData\\Local\\Packages\\PythonSoftwareFoundation.Python.3.10_qbz5n2kfra8p0\\LocalCache\\local-packages\\Python310\\site-packages\\statsmodels\\tsa\\statespace\\sarimax.py:1718\u001b[0m, in \u001b[0;36mSARIMAX._get_extension_time_varying_matrices\u001b[1;34m(self, params, exog, out_of_sample, extend_kwargs, transformed, includes_fixed, **kwargs)\u001b[0m\n\u001b[0;32m   1708\u001b[0m \u001b[39m\u001b[39m\u001b[39m\"\"\"\u001b[39;00m\n\u001b[0;32m   1709\u001b[0m \u001b[39mGet time-varying state space system matrices for extended model\u001b[39;00m\n\u001b[0;32m   1710\u001b[0m \n\u001b[1;32m   (...)\u001b[0m\n\u001b[0;32m   1714\u001b[0m \u001b[39mspecial handling in the `simple_differencing=True` case.\u001b[39;00m\n\u001b[0;32m   1715\u001b[0m \u001b[39m\"\"\"\u001b[39;00m\n\u001b[0;32m   1717\u001b[0m \u001b[39m# Get the appropriate exog for the extended sample\u001b[39;00m\n\u001b[1;32m-> 1718\u001b[0m exog \u001b[39m=\u001b[39m \u001b[39mself\u001b[39;49m\u001b[39m.\u001b[39;49m_validate_out_of_sample_exog(exog, out_of_sample)\n\u001b[0;32m   1720\u001b[0m \u001b[39m# Get the tmp endog, exog\u001b[39;00m\n\u001b[0;32m   1721\u001b[0m \u001b[39mif\u001b[39;00m \u001b[39mself\u001b[39m\u001b[39m.\u001b[39msimple_differencing:\n",
      "File \u001b[1;32m~\\AppData\\Local\\Packages\\PythonSoftwareFoundation.Python.3.10_qbz5n2kfra8p0\\LocalCache\\local-packages\\Python310\\site-packages\\statsmodels\\tsa\\statespace\\mlemodel.py:1778\u001b[0m, in \u001b[0;36mMLEModel._validate_out_of_sample_exog\u001b[1;34m(self, exog, out_of_sample)\u001b[0m\n\u001b[0;32m   1776\u001b[0m         exog \u001b[39m=\u001b[39m exog\u001b[39m.\u001b[39mreshape(required_exog_shape)\n\u001b[0;32m   1777\u001b[0m     \u001b[39mexcept\u001b[39;00m \u001b[39mValueError\u001b[39;00m:\n\u001b[1;32m-> 1778\u001b[0m         \u001b[39mraise\u001b[39;00m \u001b[39mValueError\u001b[39;00m(\u001b[39m'\u001b[39m\u001b[39mProvided exogenous values are not of the\u001b[39m\u001b[39m'\u001b[39m\n\u001b[0;32m   1779\u001b[0m                          \u001b[39m'\u001b[39m\u001b[39m appropriate shape. Required \u001b[39m\u001b[39m%s\u001b[39;00m\u001b[39m, got \u001b[39m\u001b[39m%s\u001b[39;00m\u001b[39m.\u001b[39m\u001b[39m'\u001b[39m\n\u001b[0;32m   1780\u001b[0m                          \u001b[39m%\u001b[39m (\u001b[39mstr\u001b[39m(required_exog_shape),\n\u001b[0;32m   1781\u001b[0m                             \u001b[39mstr\u001b[39m(exog\u001b[39m.\u001b[39mshape)))\n\u001b[0;32m   1782\u001b[0m \u001b[39melif\u001b[39;00m k_exog \u001b[39m>\u001b[39m \u001b[39m0\u001b[39m \u001b[39mand\u001b[39;00m exog \u001b[39mis\u001b[39;00m \u001b[39mnot\u001b[39;00m \u001b[39mNone\u001b[39;00m:\n\u001b[0;32m   1783\u001b[0m     exog \u001b[39m=\u001b[39m \u001b[39mNone\u001b[39;00m\n",
      "\u001b[1;31mValueError\u001b[0m: Provided exogenous values are not of the appropriate shape. Required (1, 1), got (0, 1)."
     ]
    }
   ],
   "source": [
    "# Rolling window sizes\n",
    "rw_sizes = range(1,len(df_train),5)\n",
    "\n",
    "# Initialize lists to store metrics for each rolling window size\n",
    "rw_mae_list = []\n",
    "rw_mse_list = []\n",
    "rw_rmse_list = []\n",
    "\n",
    "# Iterate over rolling window sizes\n",
    "for rw_size in rw_sizes:\n",
    "    # Lists to store predictions and actual values for the current window size\n",
    "    predictions = []\n",
    "    actual_values = []\n",
    "    \n",
    "    # Perform rolling window analysis\n",
    "    for i in range(len(df_train) - rw_size):\n",
    "        # Select training data\n",
    "        df_train = df_train[i:i + rw_size]\n",
    "\n",
    "        # Fit ARIMA model\n",
    "        model = ARIMA(df_train[['aktivni']], order=(p, d, q), exog=df_train[[*external_regressor_list]])\n",
    "        model = model.fit()\n",
    "\n",
    "        # Predict using the model\n",
    "        df_new = df_train[i + rw_size:i + rw_size + 1]\n",
    "        print([*external_regressor_list])\n",
    "        df_pred = model.forecast(exog=df_new[[*external_regressor_list]])\n",
    "\n",
    "        # Extract actual and predicted values\n",
    "        df_actual = df_train[i + rw_size:i + rw_size + 1]\n",
    "        df_actual = df_actual[['aktivni']]\n",
    "        actual_value = df_actual.values.flatten()[0]\n",
    "        predicted_value = df_pred.item()\n",
    "\n",
    "        # Append actual and predicted values to respective lists\n",
    "        actual_values.append(actual_value)\n",
    "        predictions.append(predicted_value)\n",
    "\n",
    "    print(f\"Iteration {rw_sizes.index(rw_size) + 1} of {len(rw_sizes)} done\", end='\\r') \n",
    "    # Calculate metrics for the current window size\n",
    "    mae = mean_absolute_error(actual_values, predictions)\n",
    "    mse = mean_squared_error(actual_values, predictions)\n",
    "    rmse = np.sqrt(mse)\n",
    "\n",
    "    # Append metrics to respective lists\n",
    "    rw_mae_list.append(mae)\n",
    "    rw_mse_list.append(mse)\n",
    "    rw_rmse_list.append(rmse)\n",
    "\n",
    "# Print the metrics for each rolling window size\n",
    "for i, rw_size in enumerate(rw_sizes):\n",
    "    print(f\"Rolling Window Size: {rw_size}\")\n",
    "    print(f\"MAE: {rw_mae_list[i]}\")\n",
    "    print(f\"MSE: {rw_mse_list[i]}\")\n",
    "    print(f\"RMSE: {rw_rmse_list[i]}\")\n"
   ]
  },
  {
   "cell_type": "code",
   "execution_count": null,
   "metadata": {},
   "outputs": [
    {
     "name": "stdout",
     "output_type": "stream",
     "text": [
      "predikce na dalsi mesic (202304) je 8026 bytu v nabidce\n"
     ]
    }
   ],
   "source": [
    "# Predict using the model\n",
    "df_new = get_df(remove_last = 0) # 0 protze nechci odebrat radky co predpovidam\n",
    "df_new = df_new.drop(df_new.index[0:-1])\n",
    "df_pred = model.forecast(exog=df_new[[*external_regressor_list]])\n",
    "print(f\"predikce na dalsi mesic ({int(df_new['datum'])}) je {int(df_pred)} bytu v nabidce\")\n"
   ]
  },
  {
   "attachments": {},
   "cell_type": "markdown",
   "metadata": {},
   "source": [
    "distribuce"
   ]
  },
  {
   "cell_type": "code",
   "execution_count": null,
   "metadata": {},
   "outputs": [
    {
     "name": "stdout",
     "output_type": "stream",
     "text": [
      "\n",
      "predikce na dalsi mesic (04,2023) je 8026 bytu v nabidce\n",
      "\n"
     ]
    }
   ],
   "source": [
    "from email.message import EmailMessage\n",
    "import ssl\n",
    "import smtplib\n",
    "import os\n",
    "import json\n",
    "#@params\n",
    "\n",
    "#* Load credentials from config.json\n",
    "with open('config.json') as config_file:\n",
    "    config_data = json.load(config_file)\n",
    "\n",
    "email_user = config_data['email_user']\n",
    "email_password = config_data['email_password']\n",
    "email_recievers = config_data['email_recievers']\n",
    "\n",
    "subject = \"predikce nabidky\"\n",
    "email_body = f\"\"\"\n",
    "predikce na dalsi mesic ({str(int(df_new['datum']))[4:]},{str(int(df_new['datum']))[:4]}) je {str(int(df_pred))} bytu v nabidce\n",
    "\"\"\"\n",
    "\n",
    "def send_mail(email_body):\n",
    "    odeslat = False\n",
    "    if odeslat:\n",
    "        try:\n",
    "            server = smtplib.SMTP_SSL('smtp.gmail.com', 465)\n",
    "            server.ehlo()\n",
    "            server.login(email_user, email_password)\n",
    "            server.sendmail(email_user, email_recievers, email_text)\n",
    "            server.close()\n",
    "            print('Email odeslán! SIIIUUUU')\n",
    "        except Exception as exception:\n",
    "            print(\"Error: %s!\\n\\n\" % exception)\n",
    "    else:\n",
    "        print(email_body)\n",
    "send_mail(email_body)"
   ]
  }
 ],
 "metadata": {
  "kernelspec": {
   "display_name": "Python 3",
   "language": "python",
   "name": "python3"
  },
  "language_info": {
   "codemirror_mode": {
    "name": "ipython",
    "version": 3
   },
   "file_extension": ".py",
   "mimetype": "text/x-python",
   "name": "python",
   "nbconvert_exporter": "python",
   "pygments_lexer": "ipython3",
   "version": "3.10.11"
  },
  "orig_nbformat": 4
 },
 "nbformat": 4,
 "nbformat_minor": 2
}
