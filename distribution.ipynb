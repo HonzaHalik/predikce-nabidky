{
 "cells": [
  {
   "cell_type": "code",
   "execution_count": 6,
   "metadata": {},
   "outputs": [
    {
     "ename": "ModuleNotFoundError",
     "evalue": "No module named 'predictions'",
     "output_type": "error",
     "traceback": [
      "\u001b[1;31m---------------------------------------------------------------------------\u001b[0m",
      "\u001b[1;31mModuleNotFoundError\u001b[0m                       Traceback (most recent call last)",
      "Cell \u001b[1;32mIn[6], line 11\u001b[0m\n\u001b[0;32m      9\u001b[0m odeslat \u001b[39m=\u001b[39m \u001b[39mTrue\u001b[39;00m\n\u001b[0;32m     10\u001b[0m \u001b[39m#* import predikce \u001b[39;00m\n\u001b[1;32m---> 11\u001b[0m \u001b[39mfrom\u001b[39;00m \u001b[39mpredictions\u001b[39;00m\u001b[39m.\u001b[39;00m\u001b[39mipynb\u001b[39;00m \u001b[39mimport\u001b[39;00m df_pred\n\u001b[0;32m     13\u001b[0m \u001b[39m#* Load credentials from config.json\u001b[39;00m\n\u001b[0;32m     14\u001b[0m \u001b[39mwith\u001b[39;00m \u001b[39mopen\u001b[39m(\u001b[39m'\u001b[39m\u001b[39mconfig.json\u001b[39m\u001b[39m'\u001b[39m) \u001b[39mas\u001b[39;00m config_file:\n",
      "\u001b[1;31mModuleNotFoundError\u001b[0m: No module named 'predictions'"
     ]
    }
   ],
   "source": [
    "\n",
    "from email.message import EmailMessage\n",
    "import ssl\n",
    "import smtplib\n",
    "import os\n",
    "import json\n",
    "#TODO naimportovat model nebo vysledky \n",
    "\n",
    "#@params\n",
    "odeslat = True\n",
    "#* import predikce \n",
    "from predictions.ipynb import df_pred\n",
    "\n",
    "#* Load credentials from config.json\n",
    "with open('config.json') as config_file:\n",
    "    config_data = json.load(config_file)\n",
    "\n",
    "\n",
    "email_user = config_data['email_user']\n",
    "email_password = config_data['email_password']\n",
    "email_recievers = config_data['email_recievers']\n",
    "\n",
    "\n",
    "\n",
    "subject = \"predikce nabidky\"\n",
    "email_body = \"\"\"\n",
    "\n",
    "\"\"\"\n",
    "\n",
    "email_text =   \"test\"\n",
    "def send_mail(email_text):\n",
    "    if odeslat:\n",
    "        try:\n",
    "            server = smtplib.SMTP_SSL('smtp.gmail.com', 465)\n",
    "            server.ehlo()\n",
    "            server.login(email_user, email_password)\n",
    "            server.sendmail(email_user, email_recievers, email_text)\n",
    "            server.close()\n",
    "            print('Email odeslán! SIIIUUUU')\n",
    "        except Exception as exception:\n",
    "            print(\"Error: %s!\\n\\n\" % exception)\n",
    "def main():\n",
    "    send_mail(email_text)\n",
    "main()"
   ]
  }
 ],
 "metadata": {
  "kernelspec": {
   "display_name": "Python 3",
   "language": "python",
   "name": "python3"
  },
  "language_info": {
   "codemirror_mode": {
    "name": "ipython",
    "version": 3
   },
   "file_extension": ".py",
   "mimetype": "text/x-python",
   "name": "python",
   "nbconvert_exporter": "python",
   "pygments_lexer": "ipython3",
   "version": "3.10.11"
  },
  "orig_nbformat": 4
 },
 "nbformat": 4,
 "nbformat_minor": 2
}
