{
 "cells": [
  {
   "cell_type": "code",
   "execution_count": 6,
   "metadata": {},
   "outputs": [
    {
     "name": "stdout",
     "output_type": "stream",
     "text": [
      "Email odeslán! SIIIUUUU\n"
     ]
    }
   ],
   "source": [
    "\n",
    "from email.message import EmailMessage\n",
    "import ssl\n",
    "import smtplib\n",
    "import os\n",
    "#TODO naimportovat model nebo vysledky \n",
    "#//from gradient_boosting_regression.ipynb import\n",
    "#@params\n",
    "odeslat = True\n",
    "#TODO importovat citlive udaje aby nesli cist na githubu\n",
    "email_user = \n",
    "email_password = \n",
    "email_reciever = \n",
    "subject = \n",
    "#TODO dopsat text mailu\n",
    "email_body = \"\"\"\n",
    "\n",
    "\"\"\"\n",
    "\n",
    "email_text =   \"test\"\n",
    "def send_mail(email_text):\n",
    "    if odeslat:\n",
    "        try:\n",
    "            server = smtplib.SMTP_SSL('smtp.gmail.com', 465)\n",
    "            server.ehlo()\n",
    "            server.login(email_user, email_password)\n",
    "            server.sendmail(email_user, email_reciever, email_text)\n",
    "            server.close()\n",
    "            print('Email odeslán! SIIIUUUU')\n",
    "        except Exception as exception:\n",
    "            print(\"Error: %s!\\n\\n\" % exception)\n",
    "def main():\n",
    "    send_mail(email_text)\n",
    "main()"
   ]
  }
 ],
 "metadata": {
  "kernelspec": {
   "display_name": "Python 3",
   "language": "python",
   "name": "python3"
  },
  "language_info": {
   "codemirror_mode": {
    "name": "ipython",
    "version": 3
   },
   "file_extension": ".py",
   "mimetype": "text/x-python",
   "name": "python",
   "nbconvert_exporter": "python",
   "pygments_lexer": "ipython3",
   "version": "3.10.11"
  },
  "orig_nbformat": 4
 },
 "nbformat": 4,
 "nbformat_minor": 2
}
