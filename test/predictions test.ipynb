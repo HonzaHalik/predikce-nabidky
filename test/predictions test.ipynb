{
 "cells": [
  {
   "cell_type": "code",
   "execution_count": null,
   "metadata": {},
   "outputs": [],
   "source": []
  },
  {
   "cell_type": "code",
   "execution_count": null,
   "metadata": {},
   "outputs": [],
   "source": []
  },
  {
   "cell_type": "code",
   "execution_count": null,
   "metadata": {},
   "outputs": [],
   "source": []
  },
  {
   "cell_type": "code",
   "execution_count": 2,
   "metadata": {},
   "outputs": [],
   "source": [
    "import pandas as pd\n",
    "import numpy as np\n",
    "import statsmodels.api as sm\n",
    "from matplotlib import pyplot as plt\n",
    "from statsmodels.tsa.arima.model import ARIMA\n",
    "from tqdm import tqdm\n",
    "import warnings\n",
    "\n",
    "from sklearn.metrics import mean_absolute_error, mean_squared_error\n",
    "from sklearn import metrics"
   ]
  },
  {
   "attachments": {},
   "cell_type": "markdown",
   "metadata": {},
   "source": [
    "nastavení"
   ]
  },
  {
   "cell_type": "code",
   "execution_count": 3,
   "metadata": {},
   "outputs": [],
   "source": [
    "graf_priprava_dat = False\n",
    "\n",
    "df_path = fr\"C:\\Users\\halik\\OneDrive\\Dokumenty\\GitHub\\predikce-nabidky\\production code\\production dataset.xlsx\"#@ cesta k datasetu\n",
    "\n",
    "#@ externi regresory arima modelu\n",
    "external_regressor_columns = [\"nove-1\", \"zbytek-1\"]\n",
    "#@ promenne pouzite v modelu ktere potrebuji detrendovat, deseasonalizovat...\n",
    "parametry = ['aktivni-1', *external_regressor_columns] \n",
    "\n",
    "#@ hyperparametry ARIMY \n",
    "p = 2  # AR myslim si ze by to melo byt 2 aby nebyl overfitting protoze pacf hodne spadne po lag=2\n",
    "d = 1  # I \n",
    "q = 2  # MA\n"
   ]
  },
  {
   "attachments": {},
   "cell_type": "markdown",
   "metadata": {},
   "source": [
    "import dat"
   ]
  },
  {
   "cell_type": "code",
   "execution_count": 8,
   "metadata": {},
   "outputs": [],
   "source": [
    "\n",
    "#@ args:\n",
    "    # remove_first: odstrani prvních remove first řádků z datasetu (protože nejsou kompletni...)\n",
    "    # remove_last: odstrani posledni remove_last řádků proto z data setu \n",
    "        # default = 6 (momentalne je poslednich 1 radku na predikce)\n",
    "def get_df(remove_first = 0, remove_last = 1):\n",
    "    df = pd.read_excel(df_path)\n",
    "    df = df.drop(df.index[:remove_first])\n",
    "    if remove_last != 0:\n",
    "        df = df.drop(df.index[-remove_last:])\n",
    "    #df['datetime'] = pd.date_range(start='2016-02-01', periods=len(df.index.values), freq='MS')\n",
    "    return df\n",
    "df = get_df(remove_first=12)"
   ]
  },
  {
   "attachments": {},
   "cell_type": "markdown",
   "metadata": {},
   "source": [
    "detrendování dat"
   ]
  },
  {
   "cell_type": "code",
   "execution_count": 5,
   "metadata": {},
   "outputs": [],
   "source": [
    "#\n",
    "#df = get_df(remove_first=12)\n",
    "#\n",
    "#columns = df.columns.tolist()\n",
    "#columns.remove('datum')\n",
    "#\n",
    "#df_detrend = df.copy()\n",
    "#for column in columns:\n",
    "#    detrended = df[column] - df[column].rolling(window=2).mean()  #@window size nastudovat, upravit\n",
    "#    df_detrend[column] = detrended\n",
    "#\n",
    "#df_detrend = df_detrend[1:]\n",
    "#plt.plot(df.index, df['aktivni'], label='Original')\n",
    "#plt.plot(df_detrend.index, df_detrend['aktivni'], label='Detrended')\n",
    "#plt.legend()\n",
    "#plt.show()"
   ]
  },
  {
   "attachments": {},
   "cell_type": "markdown",
   "metadata": {},
   "source": [
    "deseasonalizace dat"
   ]
  },
  {
   "cell_type": "code",
   "execution_count": 6,
   "metadata": {},
   "outputs": [],
   "source": [
    "#df_deseasoned = df_detrend.copy()\n",
    "#for column in columns:\n",
    "#    decomp = sm.tsa.seasonal_decompose(df_detrend[parametr], period=12, model='additive')\n",
    "#    df_deseasoned[parametr] = df_detrend[parametr] - decomp.seasonal.values\n",
    "#    \n",
    "#plt.plot(df_detrend.index, df_detrend['aktivni'])\n",
    "#plt.plot(df_deseasoned.index, df_deseasoned['aktivni'])"
   ]
  },
  {
   "attachments": {},
   "cell_type": "markdown",
   "metadata": {},
   "source": [
    "arima modely"
   ]
  },
  {
   "cell_type": "code",
   "execution_count": 34,
   "metadata": {},
   "outputs": [
    {
     "name": "stderr",
     "output_type": "stream",
     "text": [
      "100%|██████████| 3/3 [00:05<00:00,  1.80s/it]"
     ]
    },
    {
     "name": "stdout",
     "output_type": "stream",
     "text": [
      "                               SARIMAX Results                                \n",
      "==============================================================================\n",
      "Dep. Variable:                aktivni   No. Observations:                   86\n",
      "Model:                 ARIMA(4, 2, 1)   Log Likelihood                -646.908\n",
      "Date:                Thu, 31 Aug 2023   AIC                           1307.815\n",
      "Time:                        12:35:39   BIC                           1324.831\n",
      "Sample:                             0   HQIC                          1314.655\n",
      "                                 - 86                                         \n",
      "Covariance Type:                  opg                                         \n",
      "==============================================================================\n",
      "                 coef    std err          z      P>|z|      [0.025      0.975]\n",
      "------------------------------------------------------------------------------\n",
      "zbytek-1      -0.0760      0.147     -0.518      0.604      -0.363       0.211\n",
      "ar.L1         -0.0949      0.183     -0.517      0.605      -0.454       0.265\n",
      "ar.L2          0.0454      0.139      0.326      0.744      -0.228       0.318\n",
      "ar.L3          0.0459      0.117      0.394      0.694      -0.183       0.274\n",
      "ar.L4          0.0687      0.135      0.508      0.612      -0.196       0.334\n",
      "ma.L1         -0.9999      0.154     -6.509      0.000      -1.301      -0.699\n",
      "sigma2        2.4e+05   6.39e-07   3.76e+11      0.000     2.4e+05     2.4e+05\n",
      "===================================================================================\n",
      "Ljung-Box (L1) (Q):                   0.23   Jarque-Bera (JB):                 2.94\n",
      "Prob(Q):                              0.63   Prob(JB):                         0.23\n",
      "Heteroskedasticity (H):               1.23   Skew:                            -0.23\n",
      "Prob(H) (two-sided):                  0.59   Kurtosis:                         3.79\n",
      "===================================================================================\n",
      "\n",
      "Warnings:\n",
      "[1] Covariance matrix calculated using the outer product of gradients (complex-step).\n",
      "[2] Covariance matrix is singular or near-singular, with condition number 1.37e+27. Standard errors may be unstable.\n"
     ]
    },
    {
     "name": "stderr",
     "output_type": "stream",
     "text": [
      "\n"
     ]
    }
   ],
   "source": [
    "#! SMAZAT NA DEBUGING\n",
    "import warnings\n",
    "warnings.filterwarnings(\"ignore\")\n",
    "\n",
    "#df_arima = df_deseasoned\n",
    "df_arima = df\n",
    "\n",
    "target = df_arima['aktivni']\n",
    "external_regressor_list = ['zbytek-1']\n",
    "external_regressor = df_arima[[*external_regressor_list]]\n",
    "\n",
    "#display(df_arima)\n",
    "p_list = [2,3,4]\n",
    "d_list = [1,2,5]\n",
    "q_list = [0,1,2,5]\n",
    "for p in tqdm(p_list):\n",
    "    best_score = 100000000000000000000\n",
    "    for d in d_list:\n",
    "        for q in q_list:\n",
    "            if not p+q > len(target)/10:\n",
    "                model = ARIMA(target, order=(p, d, q), exog= external_regressor)\n",
    "                model_fit = model.fit()\n",
    "                aic = model_fit.aic\n",
    "                aicc = model_fit.aicc\n",
    "                bic = model_fit.bic\n",
    "                score = aic+aicc+bic\n",
    "            if score < best_score:\n",
    "                best_score = score\n",
    "                best_model = model_fit\n",
    "#print(f\"AIC: {aic}\")\n",
    "#print(f\"AICC: {aicc}\")\n",
    "#print(f\"BIC: {bic}\")\n",
    "print(best_model.summary())"
   ]
  },
  {
   "cell_type": "code",
   "execution_count": 38,
   "metadata": {},
   "outputs": [
    {
     "name": "stdout",
     "output_type": "stream",
     "text": [
      "\n",
      "MAE: 595.0822419112204\n",
      "MSE: 556482.0314601609\n",
      "RMSE: 745.9772325347208\n",
      "\n"
     ]
    },
    {
     "data": {
      "image/png": "[encoded data removed]",
      "text/plain": [
       "<Figure size 640x480 with 1 Axes>"
      ]
     },
     "metadata": {},
     "output_type": "display_data"
    },
    {
     "name": "stdout",
     "output_type": "stream",
     "text": [
      "                               SARIMAX Results                                \n",
      "==============================================================================\n",
      "Dep. Variable:                aktivni   No. Observations:                   85\n",
      "Model:                 ARIMA(4, 2, 1)   Log Likelihood                -639.642\n",
      "Date:                Thu, 31 Aug 2023   AIC                           1293.285\n",
      "Time:                        12:36:59   BIC                           1310.217\n",
      "Sample:                             0   HQIC                          1300.087\n",
      "                                 - 85                                         \n",
      "Covariance Type:                  opg                                         \n",
      "==============================================================================\n",
      "                 coef    std err          z      P>|z|      [0.025      0.975]\n",
      "------------------------------------------------------------------------------\n",
      "zbytek-1      -0.0872      0.158     -0.550      0.582      -0.398       0.223\n",
      "ar.L1         -0.0944      0.183     -0.514      0.607      -0.454       0.265\n",
      "ar.L2          0.0610      0.139      0.440      0.660      -0.211       0.333\n",
      "ar.L3          0.0385      0.138      0.278      0.781      -0.233       0.310\n",
      "ar.L4          0.0611      0.174      0.351      0.726      -0.280       0.402\n",
      "ma.L1         -0.9996      3.258     -0.307      0.759      -7.384       5.385\n",
      "sigma2      2.413e+05   7.84e+05      0.308      0.758    -1.3e+06    1.78e+06\n",
      "===================================================================================\n",
      "Ljung-Box (L1) (Q):                   0.24   Jarque-Bera (JB):                 2.56\n",
      "Prob(Q):                              0.63   Prob(JB):                         0.28\n",
      "Heteroskedasticity (H):               1.20   Skew:                            -0.24\n",
      "Prob(H) (two-sided):                  0.64   Kurtosis:                         3.71\n",
      "===================================================================================\n",
      "\n",
      "Warnings:\n",
      "[1] Covariance matrix calculated using the outer product of gradients (complex-step).\n"
     ]
    }
   ],
   "source": [
    "pred_list = []\n",
    "df_test = df_arima[-12:]\n",
    "\n",
    "p = 4\n",
    "d = 2\n",
    "q = 1\n",
    "\n",
    "\n",
    "\n",
    "\n",
    "for i in range(len(df_test)):\n",
    "    df_train = df_arima[:-12+i]\n",
    "    df_test_pred = df_arima.iloc[-12+i]\n",
    "    model = ARIMA(df_train['aktivni'], order=(p, d, q), exog=df_train['zbytek-1'])\n",
    "    model_fit = model.fit()\n",
    "    pred = model_fit.forecast(steps=1, exog=[df_test_pred['zbytek-1']])\n",
    "    pred_list.append(pred)\n",
    "\n",
    "\n",
    "mae = mean_absolute_error(df_test['aktivni'], pred_list)\n",
    "mse = mean_squared_error(df_test['aktivni'], pred_list, squared=True)\n",
    "rmse = mean_squared_error(df_test['aktivni'], pred_list, squared=False)\n",
    "\n",
    "print(f\"\"\"\n",
    "MAE: {mae}\n",
    "MSE: {mse}\n",
    "RMSE: {rmse}\n",
    "\"\"\")\n",
    "\n",
    "plt.plot(range(len(df_test)), df_test['aktivni'], color=\"blue\", label=\"test data\")\n",
    "plt.plot(range(len(pred_list)), pred_list, color='green', label='predikce')\n",
    "plt.legend()\n",
    "plt.show()\n",
    "\n",
    "print(model_fit.summary())"
   ]
  },
  {
   "cell_type": "code",
   "execution_count": null,
   "metadata": {},
   "outputs": [
    {
     "name": "stdout",
     "output_type": "stream",
     "text": [
      "predikce na dalsi mesic (202304) je 7995 bytu v nabidce\n"
     ]
    }
   ],
   "source": [
    "df_new = get_df(remove_last = 0) # 0 protze nechci odebrat radky co predpovidam\n",
    "df_new = df_new.drop(df_new.index[0:-1])\n",
    "df_pred = model_fit.forecast(exog=df_new[[*external_regressor_list]])\n",
    "print(f\"predikce na dalsi mesic ({int(df_new['datum'])}) je {int(df_pred)} bytu v nabidce\")"
   ]
  },
  {
   "attachments": {},
   "cell_type": "markdown",
   "metadata": {},
   "source": [
    "    rolling window forecast"
   ]
  },
  {
   "attachments": {},
   "cell_type": "markdown",
   "metadata": {},
   "source": [
    "distribuce"
   ]
  },
  {
   "cell_type": "code",
   "execution_count": null,
   "metadata": {},
   "outputs": [
    {
     "name": "stdout",
     "output_type": "stream",
     "text": [
      "\n",
      "predikce na dalsi mesic (04,2023) je 8026 bytu v nabidce\n",
      "\n"
     ]
    }
   ],
   "source": [
    "from email.message import EmailMessage\n",
    "import ssl\n",
    "import smtplib\n",
    "import os\n",
    "import json\n",
    "#@params\n",
    "\n",
    "#* Load credentials from config.json\n",
    "with open('config.json') as config_file:\n",
    "    config_data = json.load(config_file)\n",
    "\n",
    "email_user = config_data['email_user']\n",
    "email_password = config_data['email_password']\n",
    "email_recievers = config_data['email_recievers']\n",
    "\n",
    "subject = \"predikce nabidky\"\n",
    "email_body = f\"\"\"\n",
    "predikce na dalsi mesic ({str(int(df_new['datum']))[4:]},{str(int(df_new['datum']))[:4]}) je {str(int(df_pred))} bytu v nabidce\n",
    "\"\"\"\n",
    "\n",
    "def send_mail(email_body):\n",
    "    odeslat = False\n",
    "    if odeslat:\n",
    "        try:\n",
    "            server = smtplib.SMTP_SSL('smtp.gmail.com', 465)\n",
    "            server.ehlo()\n",
    "            server.login(email_user, email_password)\n",
    "            server.sendmail(email_user, email_recievers, email_text)\n",
    "            server.close()\n",
    "            print('Email odeslán! SIIIUUUU')\n",
    "        except Exception as exception:\n",
    "            print(\"Error: %s!\\n\\n\" % exception)\n",
    "    else:\n",
    "        print(email_body)\n",
    "send_mail(email_body)"
   ]
  }
 ],
 "metadata": {
  "kernelspec": {
   "display_name": "Python 3",
   "language": "python",
   "name": "python3"
  },
  "language_info": {
   "codemirror_mode": {
    "name": "ipython",
    "version": 3
   },
   "file_extension": ".py",
   "mimetype": "text/x-python",
   "name": "python",
   "nbconvert_exporter": "python",
   "pygments_lexer": "ipython3",
   "version": "3.10.11"
  },
  "orig_nbformat": 4
 },
 "nbformat": 4,
 "nbformat_minor": 2
}
